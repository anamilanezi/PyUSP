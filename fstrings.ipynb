{
  "nbformat": 4,
  "nbformat_minor": 0,
  "metadata": {
    "colab": {
      "name": "fstrings.ipynb",
      "provenance": [],
      "authorship_tag": "ABX9TyNMBo3Ak35ZsnZxRHzE3y26",
      "include_colab_link": true
    },
    "kernelspec": {
      "name": "python3",
      "display_name": "Python 3"
    },
    "language_info": {
      "name": "python"
    }
  },
  "cells": [
    {
      "cell_type": "markdown",
      "metadata": {
        "id": "view-in-github",
        "colab_type": "text"
      },
      "source": [
        "<a href=\"https://colab.research.google.com/github/anamilanezi/py-practices/blob/main/fstrings.ipynb\" target=\"_parent\"><img src=\"https://colab.research.google.com/assets/colab-badge.svg\" alt=\"Open In Colab\"/></a>"
      ]
    },
    {
      "cell_type": "markdown",
      "source": [
        "# **Guia para a formatação de f-strings com Python**\n",
        "\n",
        "  Para utilizar a formatação de strings literais, começamos a string com um f ou F antes da abertura das aspas numa declaração `print`. Dentro da string, podemos escrever uma expressão entre chaves {} que pode se referir tanto a variáveis quando a valores literais. As porções externas às chaves são strings literais. F-strings suportam uma variedade de modificadores que controlam a aparência final de saída da string.\n",
        "\n",
        "As expressões em f-strings podem ser modificadas por uma especificação de formatação, que são usadas dentro de campos de substituição contidos em uma string para definir como os valores individuais são apresentados.\n",
        "\n",
        "\n",
        "---\n"
      ],
      "metadata": {
        "id": "RY0nSQDdcvOq"
      }
    },
    {
      "cell_type": "markdown",
      "source": [
        "## ▶ Alinhamento\n",
        "* [ < ]: Força o alinhamento à esquerda da expressão contida nas chaves. (comportamento padrão das strings)\n",
        "* [ > ]: Força o alinhamento à direita da expressão contida nas chaves.\n",
        "* [ ^ ]: Força o alinhamento ao centro da expressão contida nas chaves.\n",
        "\n",
        "Pode-se indicar um número o total do espaço que a expressão irá ocupar"
      ],
      "metadata": {
        "id": "ORFkRaRsgRz1"
      }
    },
    {
      "cell_type": "code",
      "execution_count": 9,
      "metadata": {
        "colab": {
          "base_uri": "https://localhost:8080/"
        },
        "id": "23uHPaIZclbd",
        "outputId": "c19cf749-61e8-41b4-a643-62f30d558d98"
      },
      "outputs": [
        {
          "output_type": "stream",
          "name": "stdout",
          "text": [
            "|        3.141592653589793|\n",
            "|3.141592653589793        |\n",
            "|        3.141592653589793|\n",
            "|    3.141592653589793    |\n",
            "\n"
          ]
        }
      ],
      "source": [
        "variavel_numerica = 3.141592653589793\n",
        "\n",
        "print(f\"|{variavel_numerica:25}|\") \n",
        "print(f\"|{variavel_numerica:<25}|\") \n",
        "print(f\"|{variavel_numerica:>25}|\") \n",
        "print(f\"|{variavel_numerica:^25}|\\n\")\n",
        "\n"
      ]
    },
    {
      "cell_type": "code",
      "source": [
        "variavel_string = \"Python 3.9\" \n",
        "\n",
        "print(f\"|{variavel_string:25}|\") \n",
        "print(f\"|{variavel_string:<25}|\") \n",
        "print(f\"|{variavel_string:>25}|\") \n",
        "print(f\"|{variavel_string:^25}|\")"
      ],
      "metadata": {
        "colab": {
          "base_uri": "https://localhost:8080/"
        },
        "id": "2oYM3bE5cuB-",
        "outputId": "7e952663-a417-4ac9-89f3-bcfced902dac"
      },
      "execution_count": 11,
      "outputs": [
        {
          "output_type": "stream",
          "name": "stdout",
          "text": [
            "|Python 3.9               |\n",
            "|Python 3.9               |\n",
            "|               Python 3.9|\n",
            "|       Python 3.9        |\n"
          ]
        }
      ]
    },
    {
      "cell_type": "markdown",
      "source": [
        "Também podemos especificar um caractere que ocupe os espaços da string antes do sinal de alinhamento:"
      ],
      "metadata": {
        "id": "TO91LmbciBAs"
      }
    },
    {
      "cell_type": "code",
      "source": [
        "variavel_numerica = 3.141592653589793\n",
        "\n",
        "print(f\"|{variavel_numerica:+<40}|\") \n",
        "print(f\"|{variavel_numerica:+>40}|\") \n",
        "print(f\"|{variavel_numerica:+^40}|\\n\")\n"
      ],
      "metadata": {
        "colab": {
          "base_uri": "https://localhost:8080/"
        },
        "id": "C1fxfW5agu75",
        "outputId": "0e17d049-9706-49b3-fbb7-cff18341be5c"
      },
      "execution_count": 13,
      "outputs": [
        {
          "output_type": "stream",
          "name": "stdout",
          "text": [
            "|3.141592653589793+++++++++++++++++++++++|\n",
            "|+++++++++++++++++++++++3.141592653589793|\n",
            "|+++++++++++3.141592653589793++++++++++++|\n",
            "\n"
          ]
        }
      ]
    },
    {
      "cell_type": "code",
      "source": [
        "print(f\"|{'Aplicando em string literal':~^60}|\\n|{'Atenção com as aspas':*>60}|\")\n",
        "print(f\"|{'O número de é preenchido de acordo com o tamanho da frase, e não somado (exceto se a frase ultrapassar o limite)':-^60}\")"
      ],
      "metadata": {
        "colab": {
          "base_uri": "https://localhost:8080/"
        },
        "id": "dbTCDLjQigoG",
        "outputId": "945a64f0-20e8-47a5-cb35-121ef56a8977"
      },
      "execution_count": 20,
      "outputs": [
        {
          "output_type": "stream",
          "name": "stdout",
          "text": [
            "|~~~~~~~~~~~~~~~~Aplicando em string literal~~~~~~~~~~~~~~~~~|\n",
            "|**********************************Cuidar apenas com as aspas|\n",
            "|O número de é preenchido de acordo com o tamanho da frase, e não somado, exceto se a frase ultrapassar o limite\n"
          ]
        }
      ]
    },
    {
      "cell_type": "markdown",
      "source": [
        "## ▶ **`Tipos de dados`**\n",
        "\n",
        "Existem diversas maneiras de representar strings e números quando utilizamos f-strings. Alguns exemplos:\n",
        "* [` s `]: formato string - o padrão utilizado em strings.\n",
        "* [` d `]: inteiro decimal, que utiliza vírgula como caracter separador.\n",
        "* [` n `]: número, utiliza a configuração local para definir o separador utilizado.\n",
        "* [` e `]: notação exponencial, imprime o número em notação científica usando a letra 'e' para indicar o exponente. A precisão padrão é 6.\n",
        "* [` f `]: notação de ponto fixo, exibe o valor com o número indicado de casas decimais (se não especificar, o padrão são 6 casas de precisão)\n",
        "* [`%`]: porcentagem multiplica o valor por 100 e exibe em formato de ponto fixo ('f'), seguido pelo sinal %"
      ],
      "metadata": {
        "id": "mXIvWmrOj9WL"
      }
    },
    {
      "cell_type": "code",
      "source": [
        "variavel = 10000000000000000 \n",
        "\n",
        "print(f\"Impressão sem formatação: {variavel}\") \n",
        "print(f\"Adiciona a vírgula como separador: {variavel:,d}\") \n",
        "print(f\"Notação exponencial: {variavel:e}\")\n"
      ],
      "metadata": {
        "colab": {
          "base_uri": "https://localhost:8080/"
        },
        "id": "fKzPIwYolzpG",
        "outputId": "2f0f95b0-bda2-4e13-ae88-65a9015cd71c"
      },
      "execution_count": 40,
      "outputs": [
        {
          "output_type": "stream",
          "name": "stdout",
          "text": [
            "Impressão sem formatação: 10000000000000000\n",
            "Adiciona a vírgula como separador: 10,000,000,000,000,000\n",
            "Notação exponencial: 1.000000e+16\n"
          ]
        }
      ]
    },
    {
      "cell_type": "code",
      "source": [
        "pi = 3.141592653589793\n",
        "\n",
        "print(f\"A notação de ponto fixo exibe 6 casas por padrão: {pi:f}\")\n",
        "print(f\"Mas podemos especificar quantas casas exibir com .n: {pi:.3f}\")\n"
      ],
      "metadata": {
        "colab": {
          "base_uri": "https://localhost:8080/"
        },
        "id": "KQnhbqlroz_d",
        "outputId": "bddfbae1-18a8-4cf5-8ea3-2aa0874f089a"
      },
      "execution_count": 52,
      "outputs": [
        {
          "output_type": "stream",
          "name": "stdout",
          "text": [
            "A notação de ponto fixo exibe 6 casas por padrão: 3.141593\n",
            "Mas podemos especificar quantas casas exibir com .n: 3.142\n"
          ]
        }
      ]
    },
    {
      "cell_type": "code",
      "source": [
        "variavel = 0.13\n",
        "\n",
        "print(f\"O sinal de % converte automaticamente um valor decimal em porcentagem: {variavel:%}\")\n",
        "print(f\"Para alterar o número de casas, utilizamos .n : {variavel:.2%}\")"
      ],
      "metadata": {
        "colab": {
          "base_uri": "https://localhost:8080/"
        },
        "id": "YFCJUi_FpOyF",
        "outputId": "d2889a51-c3c1-45be-d553-7588dbdecefa"
      },
      "execution_count": 53,
      "outputs": [
        {
          "output_type": "stream",
          "name": "stdout",
          "text": [
            "O sinal de % converte automaticamente um valor decimal em porcentagem: 13.000000%\n",
            "Para alterar o número de casas, utilizamos .n : 13.00%\n"
          ]
        }
      ]
    }
  ]
}